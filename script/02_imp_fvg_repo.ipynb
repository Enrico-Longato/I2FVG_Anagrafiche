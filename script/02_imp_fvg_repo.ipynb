{
 "cells": [
  {
   "cell_type": "markdown",
   "metadata": {},
   "source": [
    "# script anagrafica 02\n",
    "\n",
    "Authors: Fabio Morea, Leyla Vesnic @ Area Science Park\n",
    " \n",
    "Description: python scripts to clean and prepare data on regional companies.\n",
    "This script imports data from 'IMPRESE.xlsx' and produces clean data in the form of .csv files.\n",
    "\n",
    "License: \n",
    "scripts are available under CC-BY-4.0\n",
    "data is not included in the package\n",
    "\n",
    "Code is mantained on GitLab: https://gitlab.com/area-science-park-sustainability/imprese-fvg\n",
    "\n",
    "## Obiettivo\n",
    "L'obiettivo di questo script è convertire i risultati dallo script 01\n",
    "in una serie di tabelle ulteriormente pulite e ordinate, pronte per l'utilizzo in dashboard e analisi.\n",
    "\n",
    "## dati di input per questo script\n",
    "Questo script parte dai due file generati dallo script 01:\n",
    "\n",
    "- imprese_anagrafica.csv\n",
    "- imprese_codici.csv\n",
    "\n",
    "## risultati prodotti da questo script\n",
    "I risultati sono una serie di file .csv, ciascuno corrispondente ad una tabella ottimizzata per creare\n",
    "un database e adatta come punto di partenza per elaborazioni in powerBi e progetti di Machine\n",
    "Learning. In particolare le tabelle di output:\n",
    "\n",
    "1. rispettano i requisiti “tidy” [TODO: spiegare meglio]\n",
    "2. aggiungono ad ogni riga due metadati: Fonte e Data di aggiornamento. in questo modo possiamo\n",
    "sempre risalire all’origine del dato ed evitare di confrontare dati disomogenei. Questa\n",
    "struttura è pronta per la storicizzazione: possiamo immaginare di accodare file olologhi aggiornati\n",
    "in mesi diversi e ricostruire l’evoluzione nel tempo di un attributo.\n",
    "3. distinguono in maniera più chiara tra “imprese” e “localizzazioni”, creando due identificativi\n",
    "univoci: id_impresa (ID univoco dell’impresa) e id_localiz (ID univoco della localizzazione).\n",
    "Questo punto è molto importante perchè alcune caratteristiche sono proprie dell’impresa (es.\n",
    "è una startup) e altre delle localizzazioni (es. indirizzo).\n",
    "4. rispettano la privacy grazie ad alcune tecniche base di pseudonimizzazione per tutelare la\n",
    "privacy. Prima di tutto si suddividono i dati “potenzialmente personali” (CF, denominazione,\n",
    "indirizzo…) dagli altri. Per garantire al meglio l aprovacy è sufficiente omettere le tabelle con\n",
    "i dati personali e lavorare solo con le altre. Le imprese vengono identificate con con un\n",
    "id_impresa e un id_localizzazione, che non contengono informazioni personali.\n",
    "5. codificano i testi duplicati usando dei “dizionari” (ad esempio la descrizione estesa dei codici\n",
    "ateco e la natura giuridica delle imprese si possono codificare. La tabella principale t_*\n",
    "contiene il codice, mentre una seconda tabella “dizionario” (file che inizia con d_*) consente di associare codice\n",
    "e descrizione estesa)\n",
    "6. separano dati poco utilizzati (ad esempio la descrizione delle attività, poco utilizzata nelle\n",
    "analisi, viene salvata in un file separato)\n",
    "7. uniscono in una colonna unica le informazioni sparse nelle colonne “tipo_ul_sede”\n",
    "\n",
    "**NOTA:** Alcune ulteriori elaborazioni da inserire:\n",
    "\n",
    "- aggiungere il codice ISTAT del Comune\n",
    "- creare una tabella di corrispondenza tra codice ISTAT, nome del comune e aggregazioni di\n",
    "comuni come ad esempio SLL (sistemi locali del lavoro), comuni montani, UTI, zona costiera,..."
   ]
  },
  {
   "cell_type": "markdown",
   "metadata": {},
   "source": [
    "## Operazioni preliminari: librerie e directory di riferimento"
   ]
  },
  {
   "cell_type": "code",
   "execution_count": 19,
   "metadata": {},
   "outputs": [],
   "source": [
    "# Setup\n",
    "import sys\n",
    "import os\n",
    "from pathlib import Path\n",
    "import datetime\n",
    "import pandas as pd\n",
    "pd.options.display.max_columns = None"
   ]
  },
  {
   "cell_type": "code",
   "execution_count": 20,
   "metadata": {},
   "outputs": [
    {
     "data": {
      "text/plain": [
       "('c:\\\\Users\\\\longato\\\\OneDrive - Area Science Park\\\\Data Repository\\\\dataset_imprese_fvg\\\\repository',\n",
       " 'c:\\\\Users\\\\longato\\\\OneDrive - Area Science Park\\\\Data Repository\\\\dataset_imprese_fvg\\\\data')"
      ]
     },
     "execution_count": 20,
     "metadata": {},
     "output_type": "execute_result"
    }
   ],
   "source": [
    "current_path = Path(os.getcwd())\n",
    "data_subdir = \"data\"\n",
    "data_path = current_path.parent / data_subdir\n",
    "data_dir = str(data_path)\n",
    "\n",
    "repo_subdir = \"repository\"\n",
    "repo_path = current_path.parent / repo_subdir\n",
    "repo_dir = str(repo_path)\n",
    " \n",
    "repo_dir, data_dir\n"
   ]
  },
  {
   "cell_type": "code",
   "execution_count": 21,
   "metadata": {
    "tags": []
   },
   "outputs": [
    {
     "name": "stderr",
     "output_type": "stream",
     "text": [
      "C:\\Users\\longato\\AppData\\Local\\Temp\\ipykernel_31420\\2688483337.py:8: UserWarning: Could not infer format, so each element will be parsed individually, falling back to `dateutil`. To ensure parsing is consistent and as-expected, please specify a format.\n",
      "  df_anagrafica = pd.read_csv (  filename, sep = '|', dtype=types_dict, parse_dates=parse_dates)\n",
      "C:\\Users\\longato\\AppData\\Local\\Temp\\ipykernel_31420\\2688483337.py:8: UserWarning: Could not infer format, so each element will be parsed individually, falling back to `dateutil`. To ensure parsing is consistent and as-expected, please specify a format.\n",
      "  df_anagrafica = pd.read_csv (  filename, sep = '|', dtype=types_dict, parse_dates=parse_dates)\n",
      "C:\\Users\\longato\\AppData\\Local\\Temp\\ipykernel_31420\\2688483337.py:8: UserWarning: Could not infer format, so each element will be parsed individually, falling back to `dateutil`. To ensure parsing is consistent and as-expected, please specify a format.\n",
      "  df_anagrafica = pd.read_csv (  filename, sep = '|', dtype=types_dict, parse_dates=parse_dates)\n"
     ]
    },
    {
     "name": "stdout",
     "output_type": "stream",
     "text": [
      "<class 'pandas.core.frame.DataFrame'>\n",
      "RangeIndex: 193527 entries, 0 to 193526\n",
      "Data columns (total 47 columns):\n",
      " #   Column                 Non-Null Count   Dtype         \n",
      "---  ------                 --------------   -----         \n",
      " 0   fonte                  193527 non-null  object        \n",
      " 1   mm_aaaa                193527 non-null  object        \n",
      " 2   id_impresa             193527 non-null  int32         \n",
      " 3   id_localiz             193527 non-null  int32         \n",
      " 4   tipo_sedeul            88280 non-null   object        \n",
      " 5   denominazione          193527 non-null  object        \n",
      " 6   cf                     193527 non-null  object        \n",
      " 7   piva                   193176 non-null  object        \n",
      " 8   reg_imp_n              192087 non-null  object        \n",
      " 9   n-albo_art             31250 non-null   object        \n",
      " 10  reg_imp_sez            192050 non-null  object        \n",
      " 11  tipo_impresa           193527 non-null  object        \n",
      " 12  ng_esteso              193527 non-null  object        \n",
      " 13  ng2                    193527 non-null  object        \n",
      " 14  stato_impresa          193527 non-null  object        \n",
      " 15  sede_ul                193527 non-null  object        \n",
      " 16  comune                 193527 non-null  object        \n",
      " 17  indirizzo              193268 non-null  object        \n",
      " 18  prov                   191990 non-null  object        \n",
      " 19  capitale               132068 non-null  object        \n",
      " 20  capitale_valuta        132068 non-null  object        \n",
      " 21  imp_sedi_ee            63 non-null      object        \n",
      " 22  imp_eefvg              404 non-null     object        \n",
      " 23  imp_pmi                193527 non-null  object        \n",
      " 24  imp_startup            193527 non-null  object        \n",
      " 25  imp_femmilile          191417 non-null  object        \n",
      " 26  descrizione_attivita   159482 non-null  object        \n",
      " 27  imp_giovanile          191417 non-null  object        \n",
      " 28  tipo_localizzazione    193527 non-null  object        \n",
      " 29  imp_straniera          191417 non-null  object        \n",
      " 30  addetti_aaaa           193527 non-null  object        \n",
      " 31  addetti_indip          193527 non-null  object        \n",
      " 32  addetti_dip            193527 non-null  object        \n",
      " 33  data_isc_ri            191899 non-null  datetime64[ns]\n",
      " 34  data_isc_rd            193494 non-null  object        \n",
      " 35  data_isc_aa            31248 non-null   datetime64[ns]\n",
      " 36  data_apert_ul          88625 non-null   datetime64[ns]\n",
      " 37  data_canc              0 non-null       datetime64[ns]\n",
      " 38  data_ini_at            97189 non-null   object        \n",
      " 39  data_cess_att          0 non-null       datetime64[ns]\n",
      " 40  data_fall              7594 non-null    datetime64[ns]\n",
      " 41  data_liquid            3741 non-null    datetime64[ns]\n",
      " 42  data_cost              132283 non-null  object        \n",
      " 43  data_fine_aa           0 non-null       datetime64[ns]\n",
      " 44  last_update            193527 non-null  object        \n",
      " 45  prov_camera_commercio  192582 non-null  object        \n",
      " 46  REA_camera_commercio   193527 non-null  object        \n",
      "dtypes: datetime64[ns](8), int32(2), object(37)\n",
      "memory usage: 67.9+ MB\n"
     ]
    }
   ],
   "source": [
    "filename = data_dir +'\\\\imprese_anagrafica.csv'\n",
    "col_names = pd.read_csv(filename, nrows=0,sep = '|').columns\n",
    "dtypes={'id_localiz': int, 'id_impresa': int,  'piva':str}\n",
    "types_dict = {'id_localiz': int, 'id_impresa': int}\n",
    "types_dict.update({col: str for col in col_names if col not in types_dict})\n",
    "parse_dates = [d for d in col_names if d.startswith('data')]\n",
    "\n",
    "df_anagrafica = pd.read_csv (  filename, sep = '|', dtype=types_dict, parse_dates=parse_dates)\n",
    "df_anagrafica.info()"
   ]
  },
  {
   "cell_type": "code",
   "execution_count": 22,
   "metadata": {},
   "outputs": [
    {
     "name": "stdout",
     "output_type": "stream",
     "text": [
      "<class 'pandas.core.frame.DataFrame'>\n",
      "RangeIndex: 0 entries\n",
      "Data columns (total 8 columns):\n",
      " #   Column      Non-Null Count  Dtype \n",
      "---  ------      --------------  ----- \n",
      " 0   fonte       0 non-null      object\n",
      " 1   mm_aaaa     0 non-null      object\n",
      " 2   id_impresa  0 non-null      int32 \n",
      " 3   id_localiz  0 non-null      int32 \n",
      " 4   loc_n       0 non-null      int32 \n",
      " 5   ateco_tipo  0 non-null      object\n",
      " 6   ateco       0 non-null      object\n",
      " 7   ateco_desc  0 non-null      object\n",
      "dtypes: int32(3), object(5)\n",
      "memory usage: 132.0+ bytes\n"
     ]
    }
   ],
   "source": [
    "filename = data_dir +'\\\\imprese_codici.csv'\n",
    "dtypes={'id_localiz': int, 'id_impresa': int, 'loc_n':int }\n",
    "cols_to_use = [ 'mm_aaaa', 'fonte', 'id_localiz', 'id_impresa' ,'loc_n', 'ateco_tipo', 'ateco', 'ateco_desc'] \n",
    "df_codici = pd.read_csv (  filename, sep = '|', usecols = cols_to_use , dtype = dtypes)\n",
    "df_codici.info()"
   ]
  },
  {
   "cell_type": "markdown",
   "metadata": {},
   "source": [
    "# Creazione dei \"dizionari\" csv"
   ]
  },
  {
   "cell_type": "code",
   "execution_count": 23,
   "metadata": {
    "tags": []
   },
   "outputs": [],
   "source": [
    "# creo file csv per tabela imprese - localizzazioni\n",
    "file_risultati  = repo_dir + '\\\\' + 'id_imp_loc.csv'\n",
    "cols_to_use = ['id_impresa', 'id_localiz']\n",
    "df = df_anagrafica[ cols_to_use ]\n",
    "df.to_csv(file_risultati, sep ='|',encoding='utf-8-sig', index=False)\n",
    " "
   ]
  },
  {
   "cell_type": "code",
   "execution_count": 24,
   "metadata": {},
   "outputs": [
    {
     "name": "stderr",
     "output_type": "stream",
     "text": [
      "C:\\Users\\longato\\AppData\\Local\\Temp\\ipykernel_31420\\1578593468.py:6: SettingWithCopyWarning: \n",
      "A value is trying to be set on a copy of a slice from a DataFrame\n",
      "\n",
      "See the caveats in the documentation: https://pandas.pydata.org/pandas-docs/stable/user_guide/indexing.html#returning-a-view-versus-a-copy\n",
      "  df.sort_values(by='ateco', ascending=True, inplace=True)\n"
     ]
    }
   ],
   "source": [
    "# Crea dizionario descrizioni ateco\n",
    "file_risultati  = repo_dir + '\\\\' +  'd_ateco.csv'\n",
    "cols_to_use = ['ateco', 'ateco_desc']\n",
    "df = df_codici[cols_to_use]\n",
    "df.drop_duplicates(inplace = True)\n",
    "df.sort_values(by='ateco', ascending=True, inplace=True)\n",
    "df.to_csv(file_risultati, sep ='|',encoding='utf-8-sig', index=False)\n",
    "\n",
    "#   df_codici.drop(columns = 'ateco_desc', axis = 1) \n",
    "   "
   ]
  },
  {
   "cell_type": "code",
   "execution_count": 25,
   "metadata": {},
   "outputs": [
    {
     "name": "stderr",
     "output_type": "stream",
     "text": [
      "C:\\Users\\longato\\AppData\\Local\\Temp\\ipykernel_31420\\2229218810.py:5: SettingWithCopyWarning: \n",
      "A value is trying to be set on a copy of a slice from a DataFrame.\n",
      "Try using .loc[row_indexer,col_indexer] = value instead\n",
      "\n",
      "See the caveats in the documentation: https://pandas.pydata.org/pandas-docs/stable/user_guide/indexing.html#returning-a-view-versus-a-copy\n",
      "  df['ng_esteso'] =  df['ng_esteso'].str[5:]\n",
      "C:\\Users\\longato\\AppData\\Local\\Temp\\ipykernel_31420\\2229218810.py:6: SettingWithCopyWarning: \n",
      "A value is trying to be set on a copy of a slice from a DataFrame\n",
      "\n",
      "See the caveats in the documentation: https://pandas.pydata.org/pandas-docs/stable/user_guide/indexing.html#returning-a-view-versus-a-copy\n",
      "  df.drop_duplicates(inplace = True)\n",
      "C:\\Users\\longato\\AppData\\Local\\Temp\\ipykernel_31420\\2229218810.py:7: SettingWithCopyWarning: \n",
      "A value is trying to be set on a copy of a slice from a DataFrame\n",
      "\n",
      "See the caveats in the documentation: https://pandas.pydata.org/pandas-docs/stable/user_guide/indexing.html#returning-a-view-versus-a-copy\n",
      "  df.sort_values(by=['tipo_impresa','ng2'], ascending=False, inplace=True)\n"
     ]
    }
   ],
   "source": [
    "# Crea dizionario ng\n",
    "file_risultati  = repo_dir + '\\\\' + 'd_ng.csv'\n",
    "cols_to_use = ['tipo_impresa', 'ng2', 'ng_esteso']\n",
    "df = df_anagrafica[ cols_to_use ]\n",
    "df['ng_esteso'] =  df['ng_esteso'].str[5:]\n",
    "df.drop_duplicates(inplace = True)\n",
    "df.sort_values(by=['tipo_impresa','ng2'], ascending=False, inplace=True)\n",
    "\n",
    "df.to_csv(file_risultati, sep ='|',encoding='utf-8-sig', index=False)\n",
    "#df_anagrafica.drop(columns = 'ng_esteso', axis = 1)   "
   ]
  },
  {
   "cell_type": "code",
   "execution_count": 26,
   "metadata": {},
   "outputs": [
    {
     "name": "stderr",
     "output_type": "stream",
     "text": [
      "C:\\Users\\longato\\AppData\\Local\\Temp\\ipykernel_31420\\1673190287.py:9: SettingWithCopyWarning: \n",
      "A value is trying to be set on a copy of a slice from a DataFrame\n",
      "\n",
      "See the caveats in the documentation: https://pandas.pydata.org/pandas-docs/stable/user_guide/indexing.html#returning-a-view-versus-a-copy\n",
      "  df.drop_duplicates( inplace = True)\n",
      "C:\\Users\\longato\\AppData\\Local\\Temp\\ipykernel_31420\\1673190287.py:11: SettingWithCopyWarning: \n",
      "A value is trying to be set on a copy of a slice from a DataFrame\n",
      "\n",
      "See the caveats in the documentation: https://pandas.pydata.org/pandas-docs/stable/user_guide/indexing.html#returning-a-view-versus-a-copy\n",
      "  df.sort_values(by='id_impresa', ascending=True, inplace=True)\n"
     ]
    }
   ],
   "source": [
    "# Crea lista descrizioni attività\n",
    "\n",
    "# NB c'è qualche problema di caratteri impropri / taglia le descrizioni \n",
    "cols_to_use = [ 'id_impresa', 'descrizione_attivita']\n",
    "file_risultati  = repo_dir + '\\\\' + 't_attivita.csv'\n",
    "\n",
    "df = df_anagrafica[cols_to_use]\n",
    "\n",
    "df.drop_duplicates( inplace = True)\n",
    "\n",
    "df.sort_values(by='id_impresa', ascending=True, inplace=True)\n",
    "\n",
    "df.to_csv(file_risultati,sep ='|',encoding='utf-8-sig',  index=False)\n"
   ]
  },
  {
   "cell_type": "code",
   "execution_count": 27,
   "metadata": {},
   "outputs": [
    {
     "data": {
      "text/html": [
       "<div>\n",
       "<style scoped>\n",
       "    .dataframe tbody tr th:only-of-type {\n",
       "        vertical-align: middle;\n",
       "    }\n",
       "\n",
       "    .dataframe tbody tr th {\n",
       "        vertical-align: top;\n",
       "    }\n",
       "\n",
       "    .dataframe thead th {\n",
       "        text-align: right;\n",
       "    }\n",
       "</style>\n",
       "<table border=\"1\" class=\"dataframe\">\n",
       "  <thead>\n",
       "    <tr style=\"text-align: right;\">\n",
       "      <th></th>\n",
       "      <th>fonte</th>\n",
       "      <th>id_localiz</th>\n",
       "      <th>id_impresa</th>\n",
       "      <th>denominazione</th>\n",
       "      <th>tipo_localizzazione</th>\n",
       "      <th>data_apert_ul</th>\n",
       "      <th>comune</th>\n",
       "      <th>indirizzo</th>\n",
       "      <th>tipo_sedeul</th>\n",
       "    </tr>\n",
       "  </thead>\n",
       "  <tbody>\n",
       "    <tr>\n",
       "      <th>0</th>\n",
       "      <td>I</td>\n",
       "      <td>1</td>\n",
       "      <td>1</td>\n",
       "      <td>P E L L I Z Z A R I   S I L V I O   D I   S E ...</td>\n",
       "      <td>SE - SEDE PRINCIPALE</td>\n",
       "      <td>NaT</td>\n",
       "      <td>CORMONS - GO</td>\n",
       "      <td>V I A   P E S C H E R I A   4</td>\n",
       "      <td>NaN</td>\n",
       "    </tr>\n",
       "    <tr>\n",
       "      <th>1</th>\n",
       "      <td>I</td>\n",
       "      <td>2</td>\n",
       "      <td>2</td>\n",
       "      <td>B . F . B .       C A S A   D I   S P E D I Z ...</td>\n",
       "      <td>SE - SEDE PRINCIPALE</td>\n",
       "      <td>NaT</td>\n",
       "      <td>TRIESTE - TS</td>\n",
       "      <td>V I A   C O R T I   2</td>\n",
       "      <td>NaN</td>\n",
       "    </tr>\n",
       "    <tr>\n",
       "      <th>2</th>\n",
       "      <td>I</td>\n",
       "      <td>3</td>\n",
       "      <td>2</td>\n",
       "      <td>B . F . B .       C A S A   D I   S P E D I Z ...</td>\n",
       "      <td>UL - UNITÀ LOCALE</td>\n",
       "      <td>2007-08-01</td>\n",
       "      <td>MONRUPINO - TS</td>\n",
       "      <td>F E R N E T T I   5</td>\n",
       "      <td>U - UFFICIO</td>\n",
       "    </tr>\n",
       "    <tr>\n",
       "      <th>3</th>\n",
       "      <td>I</td>\n",
       "      <td>4</td>\n",
       "      <td>2</td>\n",
       "      <td>B . F . B .       C A S A   D I   S P E D I Z ...</td>\n",
       "      <td>UL - UNITÀ LOCALE</td>\n",
       "      <td>2015-10-15</td>\n",
       "      <td>TRIESTE - TS</td>\n",
       "      <td>P U N T O   F R A N C O   N U O V O     E X   ...</td>\n",
       "      <td>U - UFFICIO</td>\n",
       "    </tr>\n",
       "    <tr>\n",
       "      <th>4</th>\n",
       "      <td>I</td>\n",
       "      <td>6</td>\n",
       "      <td>3</td>\n",
       "      <td>C A R R O Z Z E R I A   A Z Z A N E S E   D I ...</td>\n",
       "      <td>SE - SEDE PRINCIPALE</td>\n",
       "      <td>NaT</td>\n",
       "      <td>AZZANO DECIMO - PN</td>\n",
       "      <td>V I A   F I U M I C I N O   1 4</td>\n",
       "      <td>NaN</td>\n",
       "    </tr>\n",
       "    <tr>\n",
       "      <th>...</th>\n",
       "      <td>...</td>\n",
       "      <td>...</td>\n",
       "      <td>...</td>\n",
       "      <td>...</td>\n",
       "      <td>...</td>\n",
       "      <td>...</td>\n",
       "      <td>...</td>\n",
       "      <td>...</td>\n",
       "      <td>...</td>\n",
       "    </tr>\n",
       "    <tr>\n",
       "      <th>193522</th>\n",
       "      <td>I</td>\n",
       "      <td>199370</td>\n",
       "      <td>103261</td>\n",
       "      <td>Z O Z Z O L I   A N T O N I O</td>\n",
       "      <td>SE - SEDE PRINCIPALE</td>\n",
       "      <td>NaT</td>\n",
       "      <td>PAULARO - UD</td>\n",
       "      <td>V I A   A O N E S I   4 2</td>\n",
       "      <td>NaN</td>\n",
       "    </tr>\n",
       "    <tr>\n",
       "      <th>193523</th>\n",
       "      <td>I</td>\n",
       "      <td>199371</td>\n",
       "      <td>103262</td>\n",
       "      <td>E S T E T I C A   S A G I T T A R I O   D I   ...</td>\n",
       "      <td>SE - SEDE PRINCIPALE</td>\n",
       "      <td>NaT</td>\n",
       "      <td>TRIESTE - TS</td>\n",
       "      <td>V I A   P A L E S T R I N A   3</td>\n",
       "      <td>NaN</td>\n",
       "    </tr>\n",
       "    <tr>\n",
       "      <th>193524</th>\n",
       "      <td>I</td>\n",
       "      <td>199372</td>\n",
       "      <td>103263</td>\n",
       "      <td>Z A Z Z A R I N I   R O B E R T O</td>\n",
       "      <td>SE - SEDE PRINCIPALE</td>\n",
       "      <td>NaT</td>\n",
       "      <td>VALVASONE ARZENE - PN</td>\n",
       "      <td>V I A   S A N T A   M A R G H E R I T A   2 5</td>\n",
       "      <td>NaN</td>\n",
       "    </tr>\n",
       "    <tr>\n",
       "      <th>193525</th>\n",
       "      <td>I</td>\n",
       "      <td>199373</td>\n",
       "      <td>103264</td>\n",
       "      <td>Z O Z Z O L I   S I L V A N A</td>\n",
       "      <td>SE - SEDE PRINCIPALE</td>\n",
       "      <td>NaT</td>\n",
       "      <td>PAULARO - UD</td>\n",
       "      <td>F R A Z I O N E   R A V I N I S   1 9 / A</td>\n",
       "      <td>NaN</td>\n",
       "    </tr>\n",
       "    <tr>\n",
       "      <th>193526</th>\n",
       "      <td>I</td>\n",
       "      <td>199374</td>\n",
       "      <td>103265</td>\n",
       "      <td>Z I Z Z U T T O   T H O M A S</td>\n",
       "      <td>SE - SEDE PRINCIPALE</td>\n",
       "      <td>NaT</td>\n",
       "      <td>LESTIZZA - UD</td>\n",
       "      <td>P I A Z Z A   G I U S E P P E   V E R D I   5</td>\n",
       "      <td>NaN</td>\n",
       "    </tr>\n",
       "  </tbody>\n",
       "</table>\n",
       "<p>193527 rows × 9 columns</p>\n",
       "</div>"
      ],
      "text/plain": [
       "       fonte  id_localiz  id_impresa  \\\n",
       "0          I           1           1   \n",
       "1          I           2           2   \n",
       "2          I           3           2   \n",
       "3          I           4           2   \n",
       "4          I           6           3   \n",
       "...      ...         ...         ...   \n",
       "193522     I      199370      103261   \n",
       "193523     I      199371      103262   \n",
       "193524     I      199372      103263   \n",
       "193525     I      199373      103264   \n",
       "193526     I      199374      103265   \n",
       "\n",
       "                                            denominazione  \\\n",
       "0       P E L L I Z Z A R I   S I L V I O   D I   S E ...   \n",
       "1       B . F . B .       C A S A   D I   S P E D I Z ...   \n",
       "2       B . F . B .       C A S A   D I   S P E D I Z ...   \n",
       "3       B . F . B .       C A S A   D I   S P E D I Z ...   \n",
       "4       C A R R O Z Z E R I A   A Z Z A N E S E   D I ...   \n",
       "...                                                   ...   \n",
       "193522                      Z O Z Z O L I   A N T O N I O   \n",
       "193523  E S T E T I C A   S A G I T T A R I O   D I   ...   \n",
       "193524                  Z A Z Z A R I N I   R O B E R T O   \n",
       "193525                      Z O Z Z O L I   S I L V A N A   \n",
       "193526                      Z I Z Z U T T O   T H O M A S   \n",
       "\n",
       "         tipo_localizzazione data_apert_ul                 comune  \\\n",
       "0       SE - SEDE PRINCIPALE           NaT           CORMONS - GO   \n",
       "1       SE - SEDE PRINCIPALE           NaT           TRIESTE - TS   \n",
       "2          UL - UNITÀ LOCALE    2007-08-01         MONRUPINO - TS   \n",
       "3          UL - UNITÀ LOCALE    2015-10-15           TRIESTE - TS   \n",
       "4       SE - SEDE PRINCIPALE           NaT     AZZANO DECIMO - PN   \n",
       "...                      ...           ...                    ...   \n",
       "193522  SE - SEDE PRINCIPALE           NaT           PAULARO - UD   \n",
       "193523  SE - SEDE PRINCIPALE           NaT           TRIESTE - TS   \n",
       "193524  SE - SEDE PRINCIPALE           NaT  VALVASONE ARZENE - PN   \n",
       "193525  SE - SEDE PRINCIPALE           NaT           PAULARO - UD   \n",
       "193526  SE - SEDE PRINCIPALE           NaT          LESTIZZA - UD   \n",
       "\n",
       "                                                indirizzo  tipo_sedeul  \n",
       "0                           V I A   P E S C H E R I A   4          NaN  \n",
       "1                                   V I A   C O R T I   2          NaN  \n",
       "2                                     F E R N E T T I   5  U - UFFICIO  \n",
       "3       P U N T O   F R A N C O   N U O V O     E X   ...  U - UFFICIO  \n",
       "4                         V I A   F I U M I C I N O   1 4          NaN  \n",
       "...                                                   ...          ...  \n",
       "193522                          V I A   A O N E S I   4 2          NaN  \n",
       "193523                    V I A   P A L E S T R I N A   3          NaN  \n",
       "193524      V I A   S A N T A   M A R G H E R I T A   2 5          NaN  \n",
       "193525          F R A Z I O N E   R A V I N I S   1 9 / A          NaN  \n",
       "193526      P I A Z Z A   G I U S E P P E   V E R D I   5          NaN  \n",
       "\n",
       "[193527 rows x 9 columns]"
      ]
     },
     "execution_count": 27,
     "metadata": {},
     "output_type": "execute_result"
    }
   ],
   "source": [
    "#crea il file delle localizzazioni\n",
    "file_risultati  = repo_dir + '\\\\' + 't_localizz.csv'\n",
    "cols_localiz =      [\n",
    "                    'fonte',   'id_localiz', 'id_impresa', 'denominazione',\n",
    "                    'tipo_localizzazione',                    \n",
    "                    'data_apert_ul', \n",
    "                    'comune', 'indirizzo',\n",
    "                    'tipo_sedeul'\n",
    "                    ]\n",
    "df = df_anagrafica[cols_localiz]\n",
    "#df.fillna('', inplace=True)\n",
    "df\n",
    " "
   ]
  },
  {
   "cell_type": "code",
   "execution_count": 28,
   "metadata": {},
   "outputs": [
    {
     "name": "stdout",
     "output_type": "stream",
     "text": [
      "<class 'pandas.core.frame.DataFrame'>\n",
      "RangeIndex: 193527 entries, 0 to 193526\n",
      "Data columns (total 9 columns):\n",
      " #   Column               Non-Null Count   Dtype         \n",
      "---  ------               --------------   -----         \n",
      " 0   fonte                193527 non-null  object        \n",
      " 1   id_localiz           193527 non-null  int32         \n",
      " 2   id_impresa           193527 non-null  int32         \n",
      " 3   denominazione        193527 non-null  object        \n",
      " 4   tipo_localizzazione  193527 non-null  object        \n",
      " 5   data_apert_ul        88625 non-null   datetime64[ns]\n",
      " 6   comune               193527 non-null  object        \n",
      " 7   indirizzo            193268 non-null  object        \n",
      " 8   tipo_sedeul          88280 non-null   object        \n",
      "dtypes: datetime64[ns](1), int32(2), object(6)\n",
      "memory usage: 11.8+ MB\n"
     ]
    }
   ],
   "source": [
    "df.info()"
   ]
  },
  {
   "cell_type": "markdown",
   "metadata": {},
   "source": [
    "# Unificazione dei campi \"tipo sede ul\""
   ]
  },
  {
   "cell_type": "code",
   "execution_count": 29,
   "metadata": {},
   "outputs": [
    {
     "name": "stdout",
     "output_type": "stream",
     "text": [
      "{'ST - SEDE TRASFERITA', 'SS - SEDE SECONDARIA', 'SE - SEDE PRINCIPALE', 'UL - UNITÀ LOCALE'}\n"
     ]
    },
    {
     "name": "stderr",
     "output_type": "stream",
     "text": [
      "C:\\Users\\longato\\AppData\\Local\\Temp\\ipykernel_31420\\2220071272.py:5: SettingWithCopyWarning: \n",
      "A value is trying to be set on a copy of a slice from a DataFrame.\n",
      "Try using .loc[row_indexer,col_indexer] = value instead\n",
      "\n",
      "See the caveats in the documentation: https://pandas.pydata.org/pandas-docs/stable/user_guide/indexing.html#returning-a-view-versus-a-copy\n",
      "  df['tipo_localizzazione'] = df['tipo_localizzazione'].str[0:2]\n"
     ]
    }
   ],
   "source": [
    "# tipo_localizzazione: \n",
    "# valori possibili: \n",
    "# {'ST - SEDE TRASFERITA', 'SS - SEDE SECONDARIA', 'UL - UNITÀ LOCALE', 'SE - SEDE PRINCIPALE'}\n",
    "print(set (df['tipo_localizzazione']))\n",
    "df['tipo_localizzazione'] = df['tipo_localizzazione'].str[0:2]"
   ]
  },
  {
   "cell_type": "code",
   "execution_count": 30,
   "metadata": {},
   "outputs": [],
   "source": [
    "# lista di tutti i tipi disponibili\n",
    "# tipi = set(df.tipo_sedeul_1) | set(df.tipo_sedeul_2) | set(df.tipo_sedeul_3) | set(df.tipo_sedeul_4) | set(df.tipo_sedeul_5)\n",
    "# lista_tipi = sorted(list(tipi) )\n",
    "# print(lista_tipi)"
   ]
  },
  {
   "cell_type": "code",
   "execution_count": 31,
   "metadata": {},
   "outputs": [],
   "source": [
    "#unisce i testi tipo_sedeul in unico campo\n",
    "#cols_to_use = \n",
    "#df2 = df[cols_to_use]#.astype(str)\n",
    "\n",
    "# def unione_campi(row):\n",
    "    # unione = \"\"\n",
    "    # if len(row.tipo_sedeul_1) > 0:\n",
    "        # unione = unione + \" > \" + row.tipo_sedeul_1\n",
    "    # if len(row.tipo_sedeul_2) > 0:\n",
    "        # unione = unione + \" > \" + row.tipo_sedeul_2\n",
    "    # if len(row.tipo_sedeul_3) > 0:\n",
    "        # unione = unione + \" > \" + row.tipo_sedeul_3\n",
    "    # if len(row.tipo_sedeul_4) > 0:\n",
    "        # unione = unione + \" > \" + row.tipo_sedeul_4\n",
    "    # if len(row.tipo_sedeul_5) > 0:\n",
    "        # unione = unione + \" > \" + row.tipo_sedeul_5\n",
    "    # n = unione.count(\"-\")\n",
    "    # if n > 0: \n",
    "        # unione = str(n) + \": \" + unione\n",
    "    # return unione\n",
    "\n",
    "# column = df.apply(unione_campi, axis = 1)\n",
    "\n",
    "# df = df.assign(tipo_sedeul = column.values)\n",
    "\n",
    "# df.drop(columns = ['tipo_sedeul_1', 'tipo_sedeul_2','tipo_sedeul_3', 'tipo_sedeul_4','tipo_sedeul_5'], inplace = True)\n"
   ]
  },
  {
   "cell_type": "code",
   "execution_count": 32,
   "metadata": {},
   "outputs": [],
   "source": [
    "# le localizzazioni possono avere più di un \"tipo\" \n",
    "# https://www.registroimprese.it/sede-legale-e-unita-locali\n",
    "# set(df['tipo_sedeul'])\n",
    "# da fare: riportare le descrizioni estese in una tabella separata"
   ]
  },
  {
   "cell_type": "code",
   "execution_count": 33,
   "metadata": {},
   "outputs": [
    {
     "name": "stderr",
     "output_type": "stream",
     "text": [
      "C:\\Users\\longato\\AppData\\Local\\Temp\\ipykernel_31420\\1155195190.py:1: SettingWithCopyWarning: \n",
      "A value is trying to be set on a copy of a slice from a DataFrame\n",
      "\n",
      "See the caveats in the documentation: https://pandas.pydata.org/pandas-docs/stable/user_guide/indexing.html#returning-a-view-versus-a-copy\n",
      "  df.sort_values(by='id_localiz', ascending=True, inplace=True)\n",
      "C:\\Users\\longato\\AppData\\Local\\Temp\\ipykernel_31420\\1155195190.py:2: SettingWithCopyWarning: \n",
      "A value is trying to be set on a copy of a slice from a DataFrame.\n",
      "Try using .loc[row_indexer,col_indexer] = value instead\n",
      "\n",
      "See the caveats in the documentation: https://pandas.pydata.org/pandas-docs/stable/user_guide/indexing.html#returning-a-view-versus-a-copy\n",
      "  df['prov_localiz'] = df['comune'].str[-3:]\n",
      "C:\\Users\\longato\\AppData\\Local\\Temp\\ipykernel_31420\\1155195190.py:3: SettingWithCopyWarning: \n",
      "A value is trying to be set on a copy of a slice from a DataFrame.\n",
      "Try using .loc[row_indexer,col_indexer] = value instead\n",
      "\n",
      "See the caveats in the documentation: https://pandas.pydata.org/pandas-docs/stable/user_guide/indexing.html#returning-a-view-versus-a-copy\n",
      "  df['comune'] = df['comune'].str[:-5] # DA MIGLIORARE!!!!!!!!!!!!!!!!!!!!!!!!!!!!!!!!!!!!!!!!!!!\n"
     ]
    }
   ],
   "source": [
    "df.sort_values(by='id_localiz', ascending=True, inplace=True)\n",
    "df['prov_localiz'] = df['comune'].str[-3:]\n",
    "df['comune'] = df['comune'].str[:-5] # DA MIGLIORARE!!!!!!!!!!!!!!!!!!!!!!!!!!!!!!!!!!!!!!!!!!!"
   ]
  },
  {
   "cell_type": "code",
   "execution_count": 34,
   "metadata": {},
   "outputs": [
    {
     "data": {
      "text/plain": [
       "Index(['fonte', 'id_localiz', 'id_impresa', 'denominazione',\n",
       "       'tipo_localizzazione', 'data_apert_ul', 'comune', 'indirizzo',\n",
       "       'tipo_sedeul', 'prov_localiz'],\n",
       "      dtype='object')"
      ]
     },
     "execution_count": 34,
     "metadata": {},
     "output_type": "execute_result"
    }
   ],
   "source": [
    "\n",
    "cols_order = ['fonte',  'id_localiz', 'id_impresa', 'denominazione', 'tipo_localizzazione',  'data_apert_ul', 'prov_localiz', 'comune' , 'indirizzo', 'tipo_sedeul']\n",
    "\n",
    "df[cols_order].to_csv(file_risultati, sep ='|',encoding='utf-8-sig', index=False)\n",
    "df.columns"
   ]
  },
  {
   "cell_type": "markdown",
   "metadata": {},
   "source": [
    "TODO : NB migliorare l'estrazione del Comune: se c'è \"-\" va bene così, se si tratta di comune estero con questa formula viene troncato "
   ]
  },
  {
   "cell_type": "markdown",
   "metadata": {},
   "source": [
    "# pseudonimizzazione con id_impresa"
   ]
  },
  {
   "cell_type": "code",
   "execution_count": 35,
   "metadata": {},
   "outputs": [
    {
     "name": "stderr",
     "output_type": "stream",
     "text": [
      "C:\\Users\\longato\\AppData\\Local\\Temp\\ipykernel_31420\\2930013361.py:7: SettingWithCopyWarning: \n",
      "A value is trying to be set on a copy of a slice from a DataFrame\n",
      "\n",
      "See the caveats in the documentation: https://pandas.pydata.org/pandas-docs/stable/user_guide/indexing.html#returning-a-view-versus-a-copy\n",
      "  df.drop_duplicates(subset = 'id_impresa', inplace = True)\n",
      "C:\\Users\\longato\\AppData\\Local\\Temp\\ipykernel_31420\\2930013361.py:8: SettingWithCopyWarning: \n",
      "A value is trying to be set on a copy of a slice from a DataFrame\n",
      "\n",
      "See the caveats in the documentation: https://pandas.pydata.org/pandas-docs/stable/user_guide/indexing.html#returning-a-view-versus-a-copy\n",
      "  df.sort_values(by='id_impresa', ascending=True, inplace=True)\n"
     ]
    }
   ],
   "source": [
    "# crea file csv con pseudonimizzazione dei CF <> id_impresa\n",
    "file_risultati  = repo_dir + '\\\\' + 'pseudo_cf_id_impresa.csv'\n",
    "\n",
    "cols_imp =          ['fonte',  'id_impresa', 'cf']   \n",
    "df = df_anagrafica[cols_imp]\n",
    "\n",
    "df.drop_duplicates(subset = 'id_impresa', inplace = True) \n",
    "df.sort_values(by='id_impresa', ascending=True, inplace=True)\n",
    "\n",
    "df.to_csv(file_risultati, sep ='|',encoding='utf-8-sig', index=False )"
   ]
  },
  {
   "cell_type": "code",
   "execution_count": 36,
   "metadata": {},
   "outputs": [
    {
     "name": "stderr",
     "output_type": "stream",
     "text": [
      "C:\\Users\\longato\\AppData\\Local\\Temp\\ipykernel_31420\\3226212154.py:23: SettingWithCopyWarning: \n",
      "A value is trying to be set on a copy of a slice from a DataFrame\n",
      "\n",
      "See the caveats in the documentation: https://pandas.pydata.org/pandas-docs/stable/user_guide/indexing.html#returning-a-view-versus-a-copy\n",
      "  df.sort_values(['cf', 'sede_ul' ], inplace = True)\n",
      "C:\\Users\\longato\\AppData\\Local\\Temp\\ipykernel_31420\\3226212154.py:24: SettingWithCopyWarning: \n",
      "A value is trying to be set on a copy of a slice from a DataFrame.\n",
      "Try using .loc[row_indexer,col_indexer] = value instead\n",
      "\n",
      "See the caveats in the documentation: https://pandas.pydata.org/pandas-docs/stable/user_guide/indexing.html#returning-a-view-versus-a-copy\n",
      "  df['cf_precedente'] = df['cf'].shift(1)\n",
      "C:\\Users\\longato\\AppData\\Local\\Temp\\ipykernel_31420\\3226212154.py:25: SettingWithCopyWarning: \n",
      "A value is trying to be set on a copy of a slice from a DataFrame.\n",
      "Try using .loc[row_indexer,col_indexer] = value instead\n",
      "\n",
      "See the caveats in the documentation: https://pandas.pydata.org/pandas-docs/stable/user_guide/indexing.html#returning-a-view-versus-a-copy\n",
      "  df['test'] = (df['cf'] != df['cf_precedente'])\n"
     ]
    }
   ],
   "source": [
    "file_risultati  = repo_dir + '\\\\' + 't_imprese.csv'\n",
    "\n",
    "cols_imp =          [\n",
    "                    'fonte',  'mm_aaaa', 'id_impresa',  \n",
    "'cf', 'piva', 'denominazione',\n",
    "                    'prov', 'reg_imp_n',  'sede_ul', 'n-albo_art',\n",
    "                    'reg_imp_sez', 'ng2',   \n",
    "                    'stato_impresa',\n",
    "                    'data_cost','data_isc_ri', 'data_isc_rd', 'data_isc_aa',\n",
    "                    'data_canc', 'data_ini_at', \n",
    "                    'data_cess_att',  'data_fall', 'data_liquid',\n",
    "                    'addetti_aaaa', 'addetti_indip', 'addetti_dip', \n",
    "                    'capitale', 'capitale_valuta',\n",
    "                    'imp_sedi_ee', 'imp_eefvg', 'imp_pmi', 'imp_startup',\n",
    "                    'imp_femmilile', 'imp_giovanile', 'imp_straniera' , \n",
    "                    \n",
    "                    ]   \n",
    "\n",
    "df = df_anagrafica[cols_imp]\n",
    "\n",
    "## attenzione! \"drop duplicates\" non va bene perchè seleziona la provincia \"a caso\"\n",
    "#  è necessario scegliere la provincia della sede legale con n_sede = 0\n",
    "df.sort_values(['cf', 'sede_ul' ], inplace = True)\n",
    "df['cf_precedente'] = df['cf'].shift(1)\n",
    "df['test'] = (df['cf'] != df['cf_precedente'])\n",
    "df = df[ df['test'] ]\n",
    "\n",
    "#df.drop_duplicates(subset = 'id_impresa', inplace = True) \n",
    "\n",
    "df.sort_values(by='id_impresa', ascending=True, inplace=True)\n",
    "\n",
    "cols_order = ['fonte', 'mm_aaaa','id_impresa', 'denominazione', 'cf', 'piva', 'prov', 'reg_imp_n',\n",
    "        'sede_ul', 'n-albo_art', 'reg_imp_sez', 'ng2', 'stato_impresa',\n",
    "       'data_cost', 'data_isc_ri', 'data_isc_rd', 'data_isc_aa', 'data_canc',\n",
    "       'data_ini_at', 'data_cess_att',  'data_fall',\n",
    "       'data_liquid', 'addetti_aaaa', 'addetti_indip', 'addetti_dip',\n",
    "       'capitale', 'capitale_valuta', 'imp_sedi_ee', 'imp_eefvg', 'imp_pmi',\n",
    "       'imp_startup', 'imp_femmilile', 'imp_giovanile', 'imp_straniera']\n",
    "\n",
    "\n",
    "df[cols_order].to_csv(file_risultati, sep ='|',encoding='utf-8-sig', index=False )\n",
    "\n"
   ]
  },
  {
   "cell_type": "markdown",
   "metadata": {},
   "source": [
    "# salvataggio file csv imprese e codici"
   ]
  },
  {
   "cell_type": "code",
   "execution_count": 37,
   "metadata": {},
   "outputs": [
    {
     "name": "stderr",
     "output_type": "stream",
     "text": [
      "C:\\Users\\longato\\AppData\\Local\\Temp\\ipykernel_31420\\930930524.py:10: SettingWithCopyWarning: \n",
      "A value is trying to be set on a copy of a slice from a DataFrame\n",
      "\n",
      "See the caveats in the documentation: https://pandas.pydata.org/pandas-docs/stable/user_guide/indexing.html#returning-a-view-versus-a-copy\n",
      "  df.drop_duplicates(subset = 'id_impresa', inplace = True)\n",
      "C:\\Users\\longato\\AppData\\Local\\Temp\\ipykernel_31420\\930930524.py:12: SettingWithCopyWarning: \n",
      "A value is trying to be set on a copy of a slice from a DataFrame\n",
      "\n",
      "See the caveats in the documentation: https://pandas.pydata.org/pandas-docs/stable/user_guide/indexing.html#returning-a-view-versus-a-copy\n",
      "  df.sort_values(by='id_impresa', ascending=True, inplace=True)\n"
     ]
    }
   ],
   "source": [
    "file_risultati  = repo_dir + '\\\\' + 't_imprese_dp.csv'\n",
    "\n",
    "cols_imp_dp =       [\n",
    "                    'fonte', 'mm_aaaa', 'id_impresa', \n",
    "                    'cf','denominazione'\n",
    "                    ]\n",
    "df = df_anagrafica[cols_imp_dp]\n",
    "\n",
    "\n",
    "df.drop_duplicates(subset = 'id_impresa', inplace = True) \n",
    "\n",
    "df.sort_values(by='id_impresa', ascending=True, inplace=True)\n",
    "cols_order = ['fonte', 'mm_aaaa',  'id_impresa', 'cf', 'denominazione']\n",
    "df[cols_order].to_csv(file_risultati, sep ='|',encoding='utf-8-sig', index=False)\n"
   ]
  },
  {
   "cell_type": "code",
   "execution_count": 38,
   "metadata": {},
   "outputs": [
    {
     "name": "stderr",
     "output_type": "stream",
     "text": [
      "C:\\Users\\longato\\AppData\\Local\\Temp\\ipykernel_31420\\611961127.py:4: SettingWithCopyWarning: \n",
      "A value is trying to be set on a copy of a slice from a DataFrame\n",
      "\n",
      "See the caveats in the documentation: https://pandas.pydata.org/pandas-docs/stable/user_guide/indexing.html#returning-a-view-versus-a-copy\n",
      "  df.sort_values(by='id_localiz', ascending=True, inplace=True)\n"
     ]
    }
   ],
   "source": [
    "file_risultati  = repo_dir + '\\\\' + 't_codici.csv'\n",
    "cols_imp_dp = ['fonte', 'mm_aaaa', 'id_localiz', 'loc_n', 'ateco_tipo', 'ateco']\n",
    "df = df_codici[cols_imp_dp]\n",
    "df.sort_values(by='id_localiz', ascending=True, inplace=True)\n",
    "df.to_csv(file_risultati, sep ='|',encoding='utf-8-sig', index=False)"
   ]
  },
  {
   "cell_type": "code",
   "execution_count": 39,
   "metadata": {},
   "outputs": [
    {
     "name": "stdout",
     "output_type": "stream",
     "text": [
      "end\n"
     ]
    }
   ],
   "source": [
    "print('end')"
   ]
  }
 ],
 "metadata": {
  "kernelspec": {
   "display_name": "Python 3",
   "language": "python",
   "name": "python3"
  },
  "language_info": {
   "codemirror_mode": {
    "name": "ipython",
    "version": 3
   },
   "file_extension": ".py",
   "mimetype": "text/x-python",
   "name": "python",
   "nbconvert_exporter": "python",
   "pygments_lexer": "ipython3",
   "version": "3.11.6"
  },
  "latex_envs": {
   "LaTeX_envs_menu_present": true,
   "autoclose": false,
   "autocomplete": true,
   "bibliofile": "biblio.bib",
   "cite_by": "apalike",
   "current_citInitial": 1,
   "eqLabelWithNumbers": true,
   "eqNumInitial": 1,
   "hotkeys": {
    "equation": "Ctrl-E",
    "itemize": "Ctrl-I"
   },
   "labels_anchors": false,
   "latex_user_defs": false,
   "report_style_numbering": false,
   "user_envs_cfg": false
  },
  "metadata": {
   "interpreter": {
    "hash": "46c56b00a886f01d69e776668ca12acc0de9f7c8f388e5060811cd7865d8f9b3"
   }
  },
  "toc": {
   "base_numbering": 1,
   "nav_menu": {},
   "number_sections": true,
   "sideBar": true,
   "skip_h1_title": false,
   "title_cell": "Table of Contents",
   "title_sidebar": "Contents",
   "toc_cell": false,
   "toc_position": {},
   "toc_section_display": true,
   "toc_window_display": false
  },
  "toc-autonumbering": true,
  "toc-showcode": false,
  "toc-showmarkdowntxt": false,
  "toc-showtags": false,
  "vscode": {
   "interpreter": {
    "hash": "930310433b839ec1457e1cdd9f16908570261e6f3670db41d734e188786974cb"
   }
  }
 },
 "nbformat": 4,
 "nbformat_minor": 4
}
