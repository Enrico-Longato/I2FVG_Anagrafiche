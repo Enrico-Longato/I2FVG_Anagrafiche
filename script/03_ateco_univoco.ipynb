{
 "cells": [
  {
   "cell_type": "markdown",
   "metadata": {},
   "source": [
    "# notebook 03: ateco univoco\n",
    "\n",
    "Authors: Fabio Morea, Leyla Vesnic @ Area Science Park\n",
    " \n",
    "Description: python scripts to clean and prepare data on regional companies.\n",
    "This script imports data from 'IMPRESE.xlsx' and produces clean data in the form of .csv files.\n",
    "\n",
    "License: \n",
    "scripts are available under CC-BY-4.0\n",
    "data is not included in the package\n",
    "\n",
    "Code is mantained on GitLab: https://gitlab.com/area-science-park-sustainability/imprese-fvg"
   ]
  },
  {
   "cell_type": "markdown",
   "metadata": {},
   "source": [
    "L'assegnazione dell'ateco univoco si basa sulla tipologia degli ateco dichiarati dall'impresa: (I) prevalente, (P) primario e (S) secondario. Laddove presente, il codice univoco corrisponde al codice prevalente, mentre, nei casi in cui il prevalente non è evidente, viene scelto il codice primario (il primo se presenti più di uno)."
   ]
  },
  {
   "cell_type": "code",
   "execution_count": 16,
   "metadata": {},
   "outputs": [],
   "source": [
    "# Setup\n",
    "import sys\n",
    "import os\n",
    "from pathlib import Path\n",
    "import datetime\n",
    "import pandas as pd\n",
    "#import numpy as np\n",
    "pd.options.display.max_columns = None"
   ]
  },
  {
   "cell_type": "code",
   "execution_count": 17,
   "metadata": {},
   "outputs": [],
   "source": [
    "current_path = Path(os.getcwd())\n",
    "data_subdir = \"data\"\n",
    "data_path = current_path.parent / data_subdir\n",
    "data_dir = str(data_path)\n",
    "listafile = os.listdir(data_path)\n",
    "filename = 'imprese_codici.csv'\n",
    "assert filename in listafile, \"Errore: non trovo il file dati\""
   ]
  },
  {
   "cell_type": "code",
   "execution_count": 18,
   "metadata": {},
   "outputs": [],
   "source": [
    "#crea dizionario con i nomi di colonna originali e corretti\n",
    "df = pd.read_csv(data_dir + '\\\\' + filename, sep = '|', dtype='str') "
   ]
  },
  {
   "cell_type": "code",
   "execution_count": 19,
   "metadata": {},
   "outputs": [],
   "source": [
    "#elimina le righe senza codici ateco (ateco_tipo = \"\")\n",
    "df= df[ df['ateco_tipo'].str.len() >0  ]"
   ]
  },
  {
   "cell_type": "code",
   "execution_count": 20,
   "metadata": {},
   "outputs": [],
   "source": [
    "#crea info sulle priorità\n",
    "df['priorita'] = df['ateco_tipo']\n",
    "df = df.replace({\"priorita\": { 'I':1, 'P':2, 'S':3} })"
   ]
  },
  {
   "cell_type": "code",
   "execution_count": 21,
   "metadata": {},
   "outputs": [
    {
     "data": {
      "text/html": [
       "<div>\n",
       "<style scoped>\n",
       "    .dataframe tbody tr th:only-of-type {\n",
       "        vertical-align: middle;\n",
       "    }\n",
       "\n",
       "    .dataframe tbody tr th {\n",
       "        vertical-align: top;\n",
       "    }\n",
       "\n",
       "    .dataframe thead th {\n",
       "        text-align: right;\n",
       "    }\n",
       "</style>\n",
       "<table border=\"1\" class=\"dataframe\">\n",
       "  <thead>\n",
       "    <tr style=\"text-align: right;\">\n",
       "      <th></th>\n",
       "      <th>fonte</th>\n",
       "      <th>mm_aaaa</th>\n",
       "      <th>id_impresa</th>\n",
       "      <th>id_localiz</th>\n",
       "      <th>cf</th>\n",
       "      <th>loc_n</th>\n",
       "      <th>ateco_tipo</th>\n",
       "      <th>ateco</th>\n",
       "      <th>ateco_desc</th>\n",
       "      <th>priorita</th>\n",
       "    </tr>\n",
       "  </thead>\n",
       "  <tbody>\n",
       "  </tbody>\n",
       "</table>\n",
       "</div>"
      ],
      "text/plain": [
       "Empty DataFrame\n",
       "Columns: [fonte, mm_aaaa, id_impresa, id_localiz, cf, loc_n, ateco_tipo, ateco, ateco_desc, priorita]\n",
       "Index: []"
      ]
     },
     "execution_count": 21,
     "metadata": {},
     "output_type": "execute_result"
    }
   ],
   "source": [
    "df.sort_values(['cf', 'priorita' ,'loc_n'  ], inplace = True)\n",
    "df"
   ]
  },
  {
   "cell_type": "code",
   "execution_count": 22,
   "metadata": {},
   "outputs": [],
   "source": [
    "def ateco_univoco(dataframe, cf_impresa):\n",
    "    df_ateco_impresa = dataframe[ dataframe.cf == cf_impresa]\n",
    "    lista_ateco = []\n",
    "    for index,row in  df_ateco_impresa.iterrows():\n",
    "        #print(index, row.ateco_tipo, row.loc_n, row.ateco )\n",
    "        temp = str(row.ateco_tipo) + str(row.ateco) \n",
    "        lista_ateco.append(temp)\n",
    "    result = lista_ateco[0] if len(lista_ateco)>0 else \"n.d.\"\n",
    "    return result#, lista_ateco"
   ]
  },
  {
   "cell_type": "code",
   "execution_count": 23,
   "metadata": {
    "tags": []
   },
   "outputs": [
    {
     "data": {
      "text/plain": [
       "'n.d.'"
      ]
     },
     "execution_count": 23,
     "metadata": {},
     "output_type": "execute_result"
    }
   ],
   "source": [
    "ateco_univoco(df, '00000470310') #esempio di impresa senza codici, inattiva"
   ]
  },
  {
   "cell_type": "code",
   "execution_count": 24,
   "metadata": {},
   "outputs": [],
   "source": [
    "assert ateco_univoco(df, '00000470310') == 'n.d.'"
   ]
  },
  {
   "cell_type": "code",
   "execution_count": 25,
   "metadata": {
    "tags": []
   },
   "outputs": [
    {
     "data": {
      "text/plain": [
       "'n.d.'"
      ]
     },
     "execution_count": 25,
     "metadata": {},
     "output_type": "execute_result"
    }
   ],
   "source": [
    "ateco_univoco(df, '00030280267') "
   ]
  },
  {
   "cell_type": "code",
   "execution_count": 26,
   "metadata": {
    "tags": []
   },
   "outputs": [
    {
     "data": {
      "text/html": [
       "<div>\n",
       "<style scoped>\n",
       "    .dataframe tbody tr th:only-of-type {\n",
       "        vertical-align: middle;\n",
       "    }\n",
       "\n",
       "    .dataframe tbody tr th {\n",
       "        vertical-align: top;\n",
       "    }\n",
       "\n",
       "    .dataframe thead th {\n",
       "        text-align: right;\n",
       "    }\n",
       "</style>\n",
       "<table border=\"1\" class=\"dataframe\">\n",
       "  <thead>\n",
       "    <tr style=\"text-align: right;\">\n",
       "      <th></th>\n",
       "      <th>fonte</th>\n",
       "      <th>mm_aaaa</th>\n",
       "      <th>id_impresa</th>\n",
       "      <th>id_localiz</th>\n",
       "      <th>cf</th>\n",
       "      <th>loc_n</th>\n",
       "      <th>ateco_tipo</th>\n",
       "      <th>ateco</th>\n",
       "      <th>ateco_desc</th>\n",
       "      <th>priorita</th>\n",
       "      <th>ateco_uni</th>\n",
       "    </tr>\n",
       "  </thead>\n",
       "  <tbody>\n",
       "  </tbody>\n",
       "</table>\n",
       "</div>"
      ],
      "text/plain": [
       "Empty DataFrame\n",
       "Columns: [fonte, mm_aaaa, id_impresa, id_localiz, cf, loc_n, ateco_tipo, ateco, ateco_desc, priorita, ateco_uni]\n",
       "Index: []"
      ]
     },
     "execution_count": 26,
     "metadata": {},
     "output_type": "execute_result"
    }
   ],
   "source": [
    "df2 =  df.drop_duplicates(subset='cf')\n",
    "df2 = df2.assign(ateco_uni = \"\") \n",
    "df2"
   ]
  },
  {
   "cell_type": "code",
   "execution_count": 27,
   "metadata": {},
   "outputs": [
    {
     "name": "stderr",
     "output_type": "stream",
     "text": [
      "0it [00:00, ?it/s]\n"
     ]
    }
   ],
   "source": [
    "from tqdm import tqdm #tiene conto dei tempi e crea una barra di avanzamento\n",
    "\n",
    "# TODO: questo cicli fa circa 30 iterazioni al secondo... Molto lento: nel caso di 100.000 imprese impiega circa 1 ora. \n",
    "# come possiamo renderlo più efficiente\n",
    "\n",
    "for index,row in tqdm(df2.iterrows()):\n",
    "    #print('\\n\\n\\n ***', index, row.cf, au)\n",
    "    df2.loc[index, 'ateco_uni'] = ateco_univoco(df, row.cf)"
   ]
  },
  {
   "cell_type": "code",
   "execution_count": 28,
   "metadata": {},
   "outputs": [],
   "source": [
    "# TODO: si dovrebbe salvare in altra cartella!\n",
    "df2.to_csv(data_dir + '\\\\i_ateco_univoco.csv', sep='|', encoding='utf-8-sig', index=False)"
   ]
  }
 ],
 "metadata": {
  "kernelspec": {
   "display_name": "Python 3",
   "language": "python",
   "name": "python3"
  },
  "language_info": {
   "codemirror_mode": {
    "name": "ipython",
    "version": 3
   },
   "file_extension": ".py",
   "mimetype": "text/x-python",
   "name": "python",
   "nbconvert_exporter": "python",
   "pygments_lexer": "ipython3",
   "version": "3.11.6"
  },
  "latex_envs": {
   "LaTeX_envs_menu_present": true,
   "autoclose": false,
   "autocomplete": true,
   "bibliofile": "biblio.bib",
   "cite_by": "apalike",
   "current_citInitial": 1,
   "eqLabelWithNumbers": true,
   "eqNumInitial": 1,
   "hotkeys": {
    "equation": "Ctrl-E",
    "itemize": "Ctrl-I"
   },
   "labels_anchors": false,
   "latex_user_defs": false,
   "report_style_numbering": false,
   "user_envs_cfg": false
  },
  "metadata": {
   "interpreter": {
    "hash": "46c56b00a886f01d69e776668ca12acc0de9f7c8f388e5060811cd7865d8f9b3"
   }
  },
  "toc": {
   "base_numbering": 1,
   "nav_menu": {},
   "number_sections": true,
   "sideBar": true,
   "skip_h1_title": false,
   "title_cell": "Table of Contents",
   "title_sidebar": "Contents",
   "toc_cell": false,
   "toc_position": {},
   "toc_section_display": true,
   "toc_window_display": false
  },
  "toc-autonumbering": true,
  "toc-showcode": false,
  "toc-showmarkdowntxt": false,
  "toc-showtags": false,
  "vscode": {
   "interpreter": {
    "hash": "930310433b839ec1457e1cdd9f16908570261e6f3670db41d734e188786974cb"
   }
  }
 },
 "nbformat": 4,
 "nbformat_minor": 4
}
